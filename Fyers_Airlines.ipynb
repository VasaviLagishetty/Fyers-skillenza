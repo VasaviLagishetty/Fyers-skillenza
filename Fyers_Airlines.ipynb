{
  "nbformat": 4,
  "nbformat_minor": 0,
  "metadata": {
    "colab": {
      "name": "Fyers_Airlines.ipynb",
      "provenance": [],
      "authorship_tag": "ABX9TyM+6EKBt9JmW7CeIfezJlUl",
      "include_colab_link": true
    },
    "kernelspec": {
      "name": "python3",
      "display_name": "Python 3"
    }
  },
  "cells": [
    {
      "cell_type": "markdown",
      "metadata": {
        "id": "view-in-github",
        "colab_type": "text"
      },
      "source": [
        "<a href=\"https://colab.research.google.com/github/VasaviLagishetty/Fyers-skillenza/blob/main/Fyers_Airlines.ipynb\" target=\"_parent\"><img src=\"https://colab.research.google.com/assets/colab-badge.svg\" alt=\"Open In Colab\"/></a>"
      ]
    },
    {
      "cell_type": "code",
      "metadata": {
        "colab": {
          "base_uri": "https://localhost:8080/"
        },
        "id": "80VK4lojqW5e",
        "outputId": "e5704e5a-86db-4f37-8a25-c1a175f4fbeb"
      },
      "source": [
        "import json\r\n",
        "\r\n",
        "with open('airlines.csv') as f:\r\n",
        "    lines = [line.split('\"') for line in f]\r\n",
        "    d = dict()\r\n",
        "    for airline in lines[1:]:\r\n",
        "        if airline[1] in d:\r\n",
        "            d[airline[1]] += 1\r\n",
        "        else:\r\n",
        "            d[airline[1]] = 1\r\n",
        "\r\n",
        "sorted_airlines = sorted(d.items(),key = lambda item : item[1])\r\n",
        "print(json.dumps(d,indent = 4))\r\n",
        "print(sorted_airlines[-1][0],sorted_airlines[-1][1])\r\n",
        "print(sorted_airlines[0][0],sorted_airlines[0][1])"
      ],
      "execution_count": 11,
      "outputs": [
        {
          "output_type": "stream",
          "text": [
            "{\n",
            "    \"Atlanta, GA: Hartsfield-Jackson Atlanta International\": 154,\n",
            "    \"Boston, MA: Logan International\": 150,\n",
            "    \"Baltimore, MD: Baltimore/Washington International Thurgood Marshall\": 150,\n",
            "    \"Charlotte, NC: Charlotte Douglas International\": 150,\n",
            "    \"Washington, DC: Ronald Reagan Washington National\": 150,\n",
            "    \"Denver, CO: Denver International\": 150,\n",
            "    \"Dallas/Fort Worth, TX: Dallas/Fort Worth International\": 150,\n",
            "    \"Detroit, MI: Detroit Metro Wayne County\": 150,\n",
            "    \"Newark, NJ: Newark Liberty International\": 150,\n",
            "    \"Fort Lauderdale, FL: Fort Lauderdale-Hollywood International\": 150,\n",
            "    \"Washington, DC: Washington Dulles International\": 150,\n",
            "    \"Houston, TX: George Bush Intercontinental/Houston\": 150,\n",
            "    \"New York, NY: John F. Kennedy International\": 150,\n",
            "    \"Las Vegas, NV: McCarran International\": 150,\n",
            "    \"Los Angeles, CA: Los Angeles International\": 150,\n",
            "    \"New York, NY: LaGuardia\": 150,\n",
            "    \"Orlando, FL: Orlando International\": 150,\n",
            "    \"Chicago, IL: Chicago Midway International\": 150,\n",
            "    \"Miami, FL: Miami International\": 150,\n",
            "    \"Minneapolis, MN: Minneapolis-St Paul International\": 150,\n",
            "    \"Chicago, IL: Chicago O'Hare International\": 150,\n",
            "    \"Portland, OR: Portland International\": 149,\n",
            "    \"Philadelphia, PA: Philadelphia International\": 149,\n",
            "    \"Phoenix, AZ: Phoenix Sky Harbor International\": 137,\n",
            "    \"San Diego, CA: San Diego International\": 149,\n",
            "    \"Seattle, WA: Seattle/Tacoma International\": 149,\n",
            "    \"San Francisco, CA: San Francisco International\": 149,\n",
            "    \"Salt Lake City, UT: Salt Lake City International\": 149,\n",
            "    \"Tampa, FL: Tampa International\": 149\n",
            "}\n",
            "Atlanta, GA: Hartsfield-Jackson Atlanta International 154\n",
            "Phoenix, AZ: Phoenix Sky Harbor International 137\n"
          ],
          "name": "stdout"
        }
      ]
    }
  ]
}